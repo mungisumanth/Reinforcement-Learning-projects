{
 "cells": [
  {
   "cell_type": "markdown",
   "id": "739a8718",
   "metadata": {},
   "source": [
    "### Home Assigment 1, CMPE 252, Section 02, FALL 2022, San Jose State University\n",
    "#### Informative Search using A* Algorithm and its comparison to uninformed search (BFS, Dijkstra)\n",
    "All the required utility functions are provided at the beginning of this notebook. There are 8 tasks \n",
    "after the utility functions. This assignment is individual. The deadline is Sep 27, 2022. The submission is in Canvas."
   ]
  },
  {
   "cell_type": "markdown",
   "id": "7cf076e2",
   "metadata": {},
   "source": [
    "import the necessary libraries"
   ]
  },
  {
   "cell_type": "code",
   "execution_count": 1,
   "id": "bec3470b",
   "metadata": {},
   "outputs": [],
   "source": [
    "import matplotlib.pyplot as plt\n",
    "import numpy as np\n",
    "import sys\n",
    "import networkx as nx\n",
    "%matplotlib inline"
   ]
  },
  {
   "cell_type": "markdown",
   "id": "3264b930",
   "metadata": {},
   "source": [
    "'build_maze' builds the maze from 'maze_file.txt'."
   ]
  },
  {
   "cell_type": "code",
   "execution_count": 2,
   "id": "cadedf65",
   "metadata": {},
   "outputs": [],
   "source": [
    "def build_maze(maze_file):\n",
    "    '''\n",
    "    para1: filename of the maze txt file\n",
    "    return mazes as a numpy array walls: 0 - no wall, 1 - wall in the maze\n",
    "    '''\n",
    "    a = open(maze_file, 'r')  \n",
    "    m=[]\n",
    "    for i in a.readlines():\n",
    "        m.append(np.array(i.split(\" \"), dtype=\"int32\"))\n",
    "    return np.array(m)"
   ]
  },
  {
   "cell_type": "markdown",
   "id": "8d3426e4",
   "metadata": {},
   "source": [
    "define START and GOAL states within the maze"
   ]
  },
  {
   "cell_type": "markdown",
   "id": "892d0006",
   "metadata": {},
   "source": [
    "***Visualize the maze***: "
   ]
  },
  {
   "cell_type": "code",
   "execution_count": 3,
   "id": "8de356ce",
   "metadata": {
    "scrolled": true
   },
   "outputs": [
    {
     "data": {
      "text/plain": [
       "<matplotlib.image.AxesImage at 0x206c21ad250>"
      ]
     },
     "execution_count": 3,
     "metadata": {},
     "output_type": "execute_result"
    },
    {
     "data": {
      "image/png": "[encoded data removed]",
      "text/plain": [
       "<Figure size 432x288 with 1 Axes>"
      ]
     },
     "metadata": {
      "needs_background": "light"
     },
     "output_type": "display_data"
    }
   ],
   "source": [
    "# (you are encouraged to look at the API of 'imshow')\n",
    "plt.imshow(build_maze(\"maze_20x20.txt\"), cmap='Greens')"
   ]
  },
  {
   "cell_type": "code",
   "execution_count": 4,
   "id": "644f41e2",
   "metadata": {},
   "outputs": [],
   "source": [
    "START=(1, 1)\n",
    "GOAL=(19,19)\n",
    "# GOAL=(25, 25)\n",
    "# Goal for 50X50 maze is (1,49)"
   ]
  },
  {
   "cell_type": "markdown",
   "id": "ad3324b6",
   "metadata": {},
   "source": [
    "'Find_the_edges' builds the graph for the maze, assuming that the robot can move only in the four directions (Up, Down, Right, Left)."
   ]
  },
  {
   "cell_type": "code",
   "execution_count": 5,
   "id": "ab6be976",
   "metadata": {},
   "outputs": [],
   "source": [
    "def Find_the_edges(maze):\n",
    "    '''\n",
    "    para1: numpy array of the maze structure\n",
    "    return graph of the connected nodes\n",
    "    '''\n",
    "    graph={}\n",
    "    grid_size=len(maze)\n",
    "    for i in range(grid_size):\n",
    "        for j in range(grid_size):\n",
    "            if(maze[i][j]!=1):\n",
    "                adj=[]\n",
    "                eles=[]\n",
    "                if i - 1 >= 0:\n",
    "                    eles.append((i-1,j))\n",
    "                if i + 1 < grid_size:\n",
    "                    eles.append((i+1,j))\n",
    "                if j - 1 >=0:\n",
    "                    eles.append((i,j-1))\n",
    "                if j+1< grid_size:\n",
    "                    eles.append((i,j+1))\n",
    "                for ele in eles:\n",
    "                    if maze[ele[0]][ele[1]] == 0 or maze[ele[0]][ele[1]]=='3' :\n",
    "                        adj.append((ele[0],ele[1]))\n",
    "                graph[(i,j)]=adj\n",
    "    return graph"
   ]
  },
  {
   "cell_type": "markdown",
   "id": "05c35eb1",
   "metadata": {},
   "source": [
    "### Breadth First Search (BFS)"
   ]
  },
  {
   "cell_type": "code",
   "execution_count": 6,
   "id": "0ca55602",
   "metadata": {},
   "outputs": [
    {
     "data": {
      "text/plain": [
       "'\\nvisited nodes - mark them as -3 in maze numpy array \\npath- mark them as -1 in maze numpy array\\nand Visualize the maze\\n'"
      ]
     },
     "execution_count": 6,
     "metadata": {},
     "output_type": "execute_result"
    }
   ],
   "source": [
    "from collections import deque\n",
    "def BreadthFirst(graph, start, goal):\n",
    "    '''\n",
    "    para1: connected graph\n",
    "    para2: Starting node\n",
    "    para3: ending Node\n",
    "    return1: list of visited nodes\n",
    "    return2: nodes of shortest path\n",
    "    '''\n",
    "    queue = deque([([start], start)])\n",
    "    visited = set()\n",
    "    \n",
    "    while queue:\n",
    "        path, current = queue.popleft()\n",
    "        #print(path, current)\n",
    "        if current == goal:\n",
    "            #print( path)\n",
    "            return visited, np.array(path)\n",
    "        if current in visited:\n",
    "            continue\n",
    "        #print(current)\n",
    "        visited.add(current)\n",
    "        for neighbour in graph[current]:\n",
    "            #print(graph[current])\n",
    "            p = list(path)\n",
    "            p.append(neighbour)\n",
    "            queue.append((p, neighbour))\n",
    "    print(len(p))\n",
    "    return None\n",
    "'''\n",
    "visited nodes - mark them as -3 in maze numpy array \n",
    "path- mark them as -1 in maze numpy array\n",
    "and Visualize the maze\n",
    "'''    "
   ]
  },
  {
   "cell_type": "code",
   "execution_count": 7,
   "id": "e4cbdd93",
   "metadata": {},
   "outputs": [],
   "source": [
    "#example for visualization of maze with visited nodes and shortest path\n",
    "# visited nodes are marked by '-3', the final path is marked by '-1'.\n",
    "maze1=build_maze(\"maze_20x20.txt\")\n",
    "graph=Find_the_edges(maze1)\n",
    "visited, path = BreadthFirst(graph, START, GOAL)\n",
    "for i in visited:\n",
    "    maze1[i[0],i[1]]=-3\n",
    "for i in path:\n",
    "    maze1[i[0],i[1]]=-1"
   ]
  },
  {
   "cell_type": "code",
   "execution_count": 8,
   "id": "29826417",
   "metadata": {
    "scrolled": true
   },
   "outputs": [
    {
     "data": {
      "text/plain": [
       "<matplotlib.image.AxesImage at 0x206c297d190>"
      ]
     },
     "execution_count": 8,
     "metadata": {},
     "output_type": "execute_result"
    },
    {
     "data": {
      "image/png": "[encoded data removed]",
      "text/plain": [
       "<Figure size 432x288 with 1 Axes>"
      ]
     },
     "metadata": {
      "needs_background": "light"
     },
     "output_type": "display_data"
    }
   ],
   "source": [
    "plt.imshow(maze1, cmap='Pastel2')"
   ]
  },
  {
   "cell_type": "markdown",
   "id": "a3126a2a",
   "metadata": {},
   "source": [
    "- ***gray cells*** means the walls of the maze\n",
    "- ***dark green cells*** means the visited cells of the maze\n",
    "- ***light green cells*** means the shortest path of the maze\n",
    "- ***light brown*** means the unvisited cells of the maze"
   ]
  },
  {
   "cell_type": "markdown",
   "id": "0e0459cc",
   "metadata": {},
   "source": [
    "### A*-search"
   ]
  },
  {
   "cell_type": "code",
   "execution_count": 45,
   "id": "35ea5317",
   "metadata": {},
   "outputs": [
    {
     "data": {
      "text/plain": [
       "'\\nvisited nodes - mark them as -3 in maze numpy array \\npath- mark them as -1 in maze numpy array\\nand Visualize the maze\\n'"
      ]
     },
     "execution_count": 45,
     "metadata": {},
     "output_type": "execute_result"
    }
   ],
   "source": [
    "import heapq\n",
    "import time\n",
    "\n",
    "class PriorityQueue:\n",
    "    def __init__(self):\n",
    "        self.elements = []\n",
    "    \n",
    "    def empty(self) -> bool:\n",
    "        return not self.elements\n",
    "    \n",
    "    def put(self, item, priority):\n",
    "        heapq.heappush(self.elements, (priority, item))\n",
    "    \n",
    "    def get(self):\n",
    "        return heapq.heappop(self.elements)[1]\n",
    "\n",
    "def astar_path(graph, start, goal, function, weight):\n",
    "    '''\n",
    "    para1: connected graph\n",
    "    para2: Starting node\n",
    "    para3: ending Node\n",
    "    return1: list of visited nodes\n",
    "    return2: nodes of shortest path\n",
    "    '''\n",
    "    space_counter = 0\n",
    "    begin_time = time.time()\n",
    "    frontier = PriorityQueue()\n",
    "    frontier.put(start, 0)\n",
    "    came_from= {}\n",
    "    cost_so_far= {}\n",
    "    came_from[start] = None\n",
    "    cost_so_far[start] = 0\n",
    "    while not frontier.empty():\n",
    "        current = frontier.get()\n",
    "        if current == goal:\n",
    "            break\n",
    "        #print(graph[current])\n",
    "        for next in (graph[current]):\n",
    "            maze3[current]=-1\n",
    "            new_cost = cost_so_far[current] + 1\n",
    "            if next not in cost_so_far or new_cost < cost_so_far[next]:\n",
    "                cost_so_far[next] = new_cost\n",
    "                ######\n",
    "                #you can make the interface of 'astar_path' more robust by providing a heuristic as a parameter\n",
    "                ###\n",
    "                #F = G + weight*H(p)\n",
    "                priority = new_cost + function(next, goal)*weight\n",
    "                space_counter+=1\n",
    "                frontier.put(next, priority)\n",
    "                came_from[next] = current\n",
    "    current= goal\n",
    "    path = []\n",
    "    while current != start: \n",
    "        path.append(current)\n",
    "        #print(came_from[current])\n",
    "        current = came_from[current]\n",
    "    path.append(start) \n",
    "    path.reverse() \n",
    "    finish_time = time.time()\n",
    "    print(\"Space Nodes: \", space_counter)\n",
    "    print(\"Runtime: \",finish_time - begin_time)\n",
    "    return came_from, path\n",
    "'''\n",
    "visited nodes - mark them as -3 in maze numpy array \n",
    "path- mark them as -1 in maze numpy array\n",
    "and Visualize the maze\n",
    "'''    "
   ]
  },
  {
   "cell_type": "markdown",
   "id": "199af26d",
   "metadata": {},
   "source": [
    "### Dijkstra Algorithm"
   ]
  },
  {
   "cell_type": "code",
   "execution_count": 10,
   "id": "061a3df1",
   "metadata": {},
   "outputs": [
    {
     "data": {
      "text/plain": [
       "'\\nvisited nodes - mark them as -3 in maze numpy array \\npath- mark them as -1 in maze numpy array\\nand Visualize the maze\\n'"
      ]
     },
     "execution_count": 10,
     "metadata": {},
     "output_type": "execute_result"
    }
   ],
   "source": [
    "\n",
    "def dijkstra_algorithm(graph, start_node, GOAL):\n",
    "    '''\n",
    "    para1: connected graph \n",
    "    para2: Starting node\n",
    "    para3: ending Node\n",
    "    return1: list of visited nodes\n",
    "    return2: nodes of shortest path\n",
    "    '''\n",
    "    space_counter = 0\n",
    "    unvisited_nodes = list(graph.keys())\n",
    " \n",
    "    # We'll use this dict to save the cost of visiting each node and update it as we move along the graph   \n",
    "    shortest_path = {}\n",
    " \n",
    "    # We'll use this dict to save the shortest known path to a node found so far\n",
    "    previous_nodes = {}\n",
    " \n",
    "    # We'll use max_value to initialize the \"infinity\" value of the unvisited nodes   \n",
    "    max_value = sys.maxsize\n",
    "    for node in unvisited_nodes:\n",
    "        shortest_path[node] = max_value\n",
    "    # However, we initialize the starting node's value with 0   \n",
    "    shortest_path[start_node] = 0\n",
    "    \n",
    "    # The algorithm executes until we visit all nodes\n",
    "    while GOAL in unvisited_nodes:\n",
    "        # The code block below finds the node with the lowest score\n",
    "        current_min_node = None\n",
    "        for node in unvisited_nodes: # Iterate over the nodes\n",
    "            if current_min_node == None:\n",
    "                current_min_node = node\n",
    "            elif shortest_path[node] < shortest_path[current_min_node]:\n",
    "                current_min_node = node\n",
    "                \n",
    "        # The code block below retrieves the current node's neighbors and updates their distances\n",
    "        neighbors = graph[current_min_node]\n",
    "        for neighbor in neighbors:\n",
    "            tentative_value = shortest_path[current_min_node] + 1 \n",
    "            if tentative_value < shortest_path[neighbor]:\n",
    "                shortest_path[neighbor] = tentative_value\n",
    "                # We also update the best path to the current node\n",
    "                previous_nodes[neighbor] = current_min_node\n",
    "                space_counter+=1\n",
    " \n",
    "        # After visiting its neighbors, we mark the node as \"visited\"\n",
    "        unvisited_nodes.remove(current_min_node)\n",
    "\n",
    "    current= GOAL\n",
    "    path = []\n",
    "    while current != START: \n",
    "        path.append(current)\n",
    "#         print(previous_nodes[current])\n",
    "        current = previous_nodes[current]\n",
    "    path.append(START) \n",
    "    path.reverse() \n",
    "    print(\"Length: \", len(path))\n",
    "    print(\"Space Node: \", space_counter)\n",
    "    return previous_nodes, path\n",
    "'''\n",
    "visited nodes - mark them as -3 in maze numpy array \n",
    "path- mark them as -1 in maze numpy array\n",
    "and Visualize the maze\n",
    "'''    \n"
   ]
  },
  {
   "cell_type": "markdown",
   "id": "9af32e10",
   "metadata": {},
   "source": [
    "### Task - 1"
   ]
  },
  {
   "cell_type": "markdown",
   "id": "67e53628",
   "metadata": {},
   "source": [
    "Build your maze with dimentions 25 x 25 and a similar complexity (number of obstacles/fences) \n",
    "as in the maze provided in 'maze_20x20.txt'. Check that there exists a path between START at the \n",
    "(1, 1) and the GOAL at (25, 25) in your maze. Store your maze to 'my_maze_25x25.txt'. Visualize your maze. \n",
    "Use your maze in the below tasks. "
   ]
  },
  {
   "cell_type": "code",
   "execution_count": 11,
   "id": "ef397a30",
   "metadata": {
    "scrolled": false
   },
   "outputs": [
    {
     "data": {
      "text/plain": [
       "<matplotlib.image.AxesImage at 0x206c2a04580>"
      ]
     },
     "execution_count": 11,
     "metadata": {},
     "output_type": "execute_result"
    },
    {
     "data": {
      "image/png": "[encoded data removed]",
      "text/plain": [
       "<Figure size 432x288 with 1 Axes>"
      ]
     },
     "metadata": {
      "needs_background": "light"
     },
     "output_type": "display_data"
    }
   ],
   "source": [
    "# (you are encouraged to look at the API of 'imshow')\n",
    "plt.imshow(build_maze(\"my_maze_25x25.txt\"), cmap='Greens')"
   ]
  },
  {
   "cell_type": "code",
   "execution_count": 12,
   "id": "e10e3127",
   "metadata": {},
   "outputs": [],
   "source": [
    "START = (1,1)\n",
    "GOAL = (24, 24)"
   ]
  },
  {
   "cell_type": "code",
   "execution_count": 13,
   "id": "b90152bb",
   "metadata": {},
   "outputs": [],
   "source": [
    "#example for visualization of maze with visited nodes and shortest path\n",
    "# visited nodes are marked by '-3', the final path is marked by '-1'.\n",
    "maze2=build_maze(\"my_maze_25x25.txt\")\n",
    "graph=Find_the_edges(maze2)\n",
    "visited, path = BreadthFirst(graph, START, GOAL)\n",
    "for i in visited:\n",
    "    maze2[i[0],i[1]]=-3\n",
    "for i in path:\n",
    "    maze2[i[0],i[1]]=-1"
   ]
  },
  {
   "cell_type": "code",
   "execution_count": 14,
   "id": "0c31fc81",
   "metadata": {
    "scrolled": true
   },
   "outputs": [
    {
     "data": {
      "text/plain": [
       "<matplotlib.image.AxesImage at 0x206c2a74ee0>"
      ]
     },
     "execution_count": 14,
     "metadata": {},
     "output_type": "execute_result"
    },
    {
     "data": {
      "image/png": "[encoded data removed]",
      "text/plain": [
       "<Figure size 432x288 with 1 Axes>"
      ]
     },
     "metadata": {
      "needs_background": "light"
     },
     "output_type": "display_data"
    }
   ],
   "source": [
    "plt.imshow(maze2, cmap='Pastel2')"
   ]
  },
  {
   "cell_type": "markdown",
   "id": "f071216e",
   "metadata": {},
   "source": [
    "### Task - 2"
   ]
  },
  {
   "cell_type": "markdown",
   "id": "c6ab3866",
   "metadata": {},
   "source": [
    "A* algorithm requires a heuristic function. You will try two following heuristics:\n",
    "- Euclidean distance\n",
    "- Manhattan distance "
   ]
  },
  {
   "cell_type": "code",
   "execution_count": 15,
   "id": "d179e722",
   "metadata": {},
   "outputs": [],
   "source": [
    "def Euclidean_distance(node1, node2):\n",
    "    '''\n",
    "    para1: is a tuple which contains the coorinates of the source node\n",
    "    para2: is a tuple which contains the coorinates of the source node\n",
    "    return: Euclidean distance between the 2 nodes\n",
    "    '''\n",
    "    return ((node1[0] - GOAL[0])**2 + (node2[1] - GOAL[1])**2)**0.5\n",
    "    pass\n",
    "\n"
   ]
  },
  {
   "cell_type": "code",
   "execution_count": 16,
   "id": "2646bbba",
   "metadata": {},
   "outputs": [],
   "source": [
    "# implement the Manhattan distance between the 2 nodes, and update the code for A* accordingly\n",
    "def Manhattan_distance(node1, node2):\n",
    "    '''\n",
    "    para1: is a tuple which contains the coorinates of the source node\n",
    "    para2: is a tuple which contains the coorinates of the source node\n",
    "    return: Manhattan distance between the 2 nodes\n",
    "    '''\n",
    "#     refer to https://xlinux.nist.gov/dads/HTML/manhattanDistance.html\n",
    "#     Manhattan Distance  = |node1 - node2|\n",
    "    return (abs((node1[0] - GOAL[0])) + abs((node2[1] - GOAL[1])))\n",
    "\n",
    "    pass"
   ]
  },
  {
   "cell_type": "markdown",
   "id": "f05cf490",
   "metadata": {},
   "source": [
    "Run A* with these two heuristic functions for W=1 and find the shortest path and its length in the maze. You can update the interface of astar_path to accept W and a heuristic function"
   ]
  },
  {
   "cell_type": "markdown",
   "id": "5bb3835d",
   "metadata": {},
   "source": [
    "### A* algorithm with Euclidean Distance heuristic"
   ]
  },
  {
   "cell_type": "code",
   "execution_count": 2,
   "id": "5c15d6c2",
   "metadata": {},
   "outputs": [
    {
     "ename": "NameError",
     "evalue": "name 'build_maze' is not defined",
     "output_type": "error",
     "traceback": [
      "\u001b[1;31m---------------------------------------------------------------------------\u001b[0m",
      "\u001b[1;31mNameError\u001b[0m                                 Traceback (most recent call last)",
      "Input \u001b[1;32mIn [2]\u001b[0m, in \u001b[0;36m<cell line: 1>\u001b[1;34m()\u001b[0m\n\u001b[1;32m----> 1\u001b[0m maze3\u001b[38;5;241m=\u001b[39m\u001b[43mbuild_maze\u001b[49m(\u001b[38;5;124m\"\u001b[39m\u001b[38;5;124mmy_maze_25x25.txt\u001b[39m\u001b[38;5;124m\"\u001b[39m)\n\u001b[0;32m      2\u001b[0m graph\u001b[38;5;241m=\u001b[39mFind_the_edges(maze3)\n\u001b[0;32m      3\u001b[0m visited, path \u001b[38;5;241m=\u001b[39m astar_path(graph, START, GOAL, Euclidean_distance, \u001b[38;5;241m1\u001b[39m)\n",
      "\u001b[1;31mNameError\u001b[0m: name 'build_maze' is not defined"
     ]
    }
   ],
   "source": [
    "maze3=build_maze(\"my_maze_25x25.txt\")\n",
    "graph=Find_the_edges(maze3)\n",
    "visited, path = astar_path(graph, START, GOAL, Euclidean_distance, 1)\n",
    "for i in visited:\n",
    "    maze3[i[0],i[1]]=-3\n",
    "for i in path:\n",
    "    maze3[i[0],i[1]]=-1"
   ]
  },
  {
   "cell_type": "code",
   "execution_count": 18,
   "id": "70f8bde6",
   "metadata": {
    "scrolled": true
   },
   "outputs": [
    {
     "data": {
      "text/plain": [
       "<matplotlib.image.AxesImage at 0x206c2ae3850>"
      ]
     },
     "execution_count": 18,
     "metadata": {},
     "output_type": "execute_result"
    },
    {
     "data": {
      "image/png": "[encoded data removed]",
      "text/plain": [
       "<Figure size 432x288 with 1 Axes>"
      ]
     },
     "metadata": {
      "needs_background": "light"
     },
     "output_type": "display_data"
    }
   ],
   "source": [
    "plt.imshow(maze3, cmap='Pastel2')"
   ]
  },
  {
   "cell_type": "markdown",
   "id": "2571a57e",
   "metadata": {},
   "source": [
    "### A* algorithm with Manhattan Distance Heruisitc"
   ]
  },
  {
   "cell_type": "code",
   "execution_count": 19,
   "id": "83085fc2",
   "metadata": {},
   "outputs": [
    {
     "name": "stdout",
     "output_type": "stream",
     "text": [
      "Space Nodes:  304\n",
      "Runtime:  0.00098419189453125\n"
     ]
    }
   ],
   "source": [
    "maze3=build_maze(\"my_maze_25x25.txt\")\n",
    "graph=Find_the_edges(maze3)\n",
    "visited, path = astar_path(graph, START, GOAL, Manhattan_distance, 1)\n",
    "for i in visited:\n",
    "    maze3[i[0],i[1]]=-3\n",
    "for i in path:\n",
    "    maze3[i[0],i[1]]=-1"
   ]
  },
  {
   "cell_type": "code",
   "execution_count": 20,
   "id": "ce859833",
   "metadata": {},
   "outputs": [
    {
     "data": {
      "text/plain": [
       "<matplotlib.image.AxesImage at 0x206c2b49760>"
      ]
     },
     "execution_count": 20,
     "metadata": {},
     "output_type": "execute_result"
    },
    {
     "data": {
      "image/png": "[encoded data removed]",
      "text/plain": [
       "<Figure size 432x288 with 1 Axes>"
      ]
     },
     "metadata": {
      "needs_background": "light"
     },
     "output_type": "display_data"
    }
   ],
   "source": [
    "plt.imshow(maze3, cmap='Pastel2')"
   ]
  },
  {
   "cell_type": "markdown",
   "id": "14328cdd",
   "metadata": {},
   "source": [
    "### Task - 3\n"
   ]
  },
  {
   "cell_type": "markdown",
   "id": "dc66340b",
   "metadata": {},
   "source": [
    "In this task you are asked to solve the maze with 4 different weights, W, in A* for each of the heurstic function mentioned above. Visualize the solution for each W and each heurstic on a separate plot in the same format as in the examle above (see cell 17). ***Chose a broad set of values for W to see the difference.***"
   ]
  },
  {
   "cell_type": "markdown",
   "id": "caba54ce",
   "metadata": {},
   "source": [
    "### A* algorithm with Euclidean Distance Heruisitc Function with 4 different weights"
   ]
  },
  {
   "cell_type": "code",
   "execution_count": 21,
   "id": "b5bd20ce",
   "metadata": {},
   "outputs": [
    {
     "name": "stdout",
     "output_type": "stream",
     "text": [
      "Space Nodes:  276\n",
      "Runtime:  0.0014646053314208984\n"
     ]
    }
   ],
   "source": [
    "maze3=build_maze(\"my_maze_25x25.txt\")\n",
    "graph=Find_the_edges(maze3)\n",
    "visited, path = astar_path(graph, START, GOAL, Euclidean_distance, 5)\n",
    "for i in visited:\n",
    "    maze3[i[0],i[1]]=-3\n",
    "for i in path:\n",
    "    maze3[i[0],i[1]]=-1"
   ]
  },
  {
   "cell_type": "code",
   "execution_count": 22,
   "id": "3815e35a",
   "metadata": {
    "scrolled": true
   },
   "outputs": [
    {
     "data": {
      "text/plain": [
       "<matplotlib.image.AxesImage at 0x206c2ba9a30>"
      ]
     },
     "execution_count": 22,
     "metadata": {},
     "output_type": "execute_result"
    },
    {
     "data": {
      "image/png": "[encoded data removed]",
      "text/plain": [
       "<Figure size 432x288 with 1 Axes>"
      ]
     },
     "metadata": {
      "needs_background": "light"
     },
     "output_type": "display_data"
    }
   ],
   "source": [
    "plt.imshow(maze3, cmap='Pastel2')"
   ]
  },
  {
   "cell_type": "code",
   "execution_count": 3,
   "id": "6ffa0b94",
   "metadata": {},
   "outputs": [
    {
     "ename": "NameError",
     "evalue": "name 'build_maze' is not defined",
     "output_type": "error",
     "traceback": [
      "\u001b[1;31m---------------------------------------------------------------------------\u001b[0m",
      "\u001b[1;31mNameError\u001b[0m                                 Traceback (most recent call last)",
      "Input \u001b[1;32mIn [3]\u001b[0m, in \u001b[0;36m<cell line: 1>\u001b[1;34m()\u001b[0m\n\u001b[1;32m----> 1\u001b[0m maze3\u001b[38;5;241m=\u001b[39m\u001b[43mbuild_maze\u001b[49m(\u001b[38;5;124m\"\u001b[39m\u001b[38;5;124mmy_maze_25x25.txt\u001b[39m\u001b[38;5;124m\"\u001b[39m)\n\u001b[0;32m      2\u001b[0m graph\u001b[38;5;241m=\u001b[39mFind_the_edges(maze3)\n\u001b[0;32m      3\u001b[0m visited, path \u001b[38;5;241m=\u001b[39m astar_path(graph, START, GOAL, Euclidean_distance, \u001b[38;5;241m10\u001b[39m)\n",
      "\u001b[1;31mNameError\u001b[0m: name 'build_maze' is not defined"
     ]
    }
   ],
   "source": [
    "maze3=build_maze(\"my_maze_25x25.txt\")\n",
    "graph=Find_the_edges(maze3)\n",
    "visited, path = astar_path(graph, START, GOAL, Euclidean_distance, 10)\n",
    "for i in visited:\n",
    "    maze3[i[0],i[1]]=-3\n",
    "for i in path:\n",
    "    maze3[i[0],i[1]]=-1"
   ]
  },
  {
   "cell_type": "code",
   "execution_count": 24,
   "id": "3ba4def9",
   "metadata": {
    "scrolled": true
   },
   "outputs": [
    {
     "data": {
      "text/plain": [
       "<matplotlib.image.AxesImage at 0x206c2c0ce20>"
      ]
     },
     "execution_count": 24,
     "metadata": {},
     "output_type": "execute_result"
    },
    {
     "data": {
      "image/png": "[encoded data removed]",
      "text/plain": [
       "<Figure size 432x288 with 1 Axes>"
      ]
     },
     "metadata": {
      "needs_background": "light"
     },
     "output_type": "display_data"
    }
   ],
   "source": [
    "plt.imshow(maze3, cmap='Pastel2')"
   ]
  },
  {
   "cell_type": "code",
   "execution_count": 25,
   "id": "a5f2c9d4",
   "metadata": {},
   "outputs": [
    {
     "name": "stdout",
     "output_type": "stream",
     "text": [
      "Space Nodes:  306\n",
      "Runtime:  0.001967191696166992\n"
     ]
    }
   ],
   "source": [
    "maze3=build_maze(\"my_maze_25x25.txt\")\n",
    "graph=Find_the_edges(maze3)\n",
    "visited, path = astar_path(graph, START, GOAL, Euclidean_distance, 25)\n",
    "for i in visited:\n",
    "    maze3[i[0],i[1]]=-3\n",
    "for i in path:\n",
    "    maze3[i[0],i[1]]=-1"
   ]
  },
  {
   "cell_type": "code",
   "execution_count": 26,
   "id": "09f2b7a6",
   "metadata": {
    "scrolled": true
   },
   "outputs": [
    {
     "data": {
      "text/plain": [
       "<matplotlib.image.AxesImage at 0x206c3c3ff10>"
      ]
     },
     "execution_count": 26,
     "metadata": {},
     "output_type": "execute_result"
    },
    {
     "data": {
      "image/png": "[encoded data removed]",
      "text/plain": [
       "<Figure size 432x288 with 1 Axes>"
      ]
     },
     "metadata": {
      "needs_background": "light"
     },
     "output_type": "display_data"
    }
   ],
   "source": [
    "plt.imshow(maze3, cmap='Pastel2')"
   ]
  },
  {
   "cell_type": "code",
   "execution_count": 27,
   "id": "ee033b78",
   "metadata": {},
   "outputs": [
    {
     "name": "stdout",
     "output_type": "stream",
     "text": [
      "Space Nodes:  312\n",
      "Runtime:  0.0026121139526367188\n"
     ]
    }
   ],
   "source": [
    "maze3=build_maze(\"my_maze_25x25.txt\")\n",
    "graph=Find_the_edges(maze3)\n",
    "visited, path = astar_path(graph, START, GOAL, Euclidean_distance, 60)\n",
    "for i in visited:\n",
    "    maze3[i[0],i[1]]=-3\n",
    "for i in path:\n",
    "    maze3[i[0],i[1]]=-1"
   ]
  },
  {
   "cell_type": "code",
   "execution_count": 28,
   "id": "1fb077b3",
   "metadata": {},
   "outputs": [
    {
     "data": {
      "text/plain": [
       "<matplotlib.image.AxesImage at 0x206c3cae160>"
      ]
     },
     "execution_count": 28,
     "metadata": {},
     "output_type": "execute_result"
    },
    {
     "data": {
      "image/png": "[encoded data removed]",
      "text/plain": [
       "<Figure size 432x288 with 1 Axes>"
      ]
     },
     "metadata": {
      "needs_background": "light"
     },
     "output_type": "display_data"
    }
   ],
   "source": [
    "plt.imshow(maze3, cmap='Pastel2')"
   ]
  },
  {
   "cell_type": "markdown",
   "id": "94fb24cf",
   "metadata": {},
   "source": [
    "### A* algorithm with Manhattan Distance Heruisitc Function with 4 different weights"
   ]
  },
  {
   "cell_type": "code",
   "execution_count": 1,
   "id": "b333bcf6",
   "metadata": {},
   "outputs": [
    {
     "ename": "NameError",
     "evalue": "name 'build_maze' is not defined",
     "output_type": "error",
     "traceback": [
      "\u001b[1;31m---------------------------------------------------------------------------\u001b[0m",
      "\u001b[1;31mNameError\u001b[0m                                 Traceback (most recent call last)",
      "Input \u001b[1;32mIn [1]\u001b[0m, in \u001b[0;36m<cell line: 1>\u001b[1;34m()\u001b[0m\n\u001b[1;32m----> 1\u001b[0m maze3\u001b[38;5;241m=\u001b[39m\u001b[43mbuild_maze\u001b[49m(\u001b[38;5;124m\"\u001b[39m\u001b[38;5;124mmy_maze_25x25.txt\u001b[39m\u001b[38;5;124m\"\u001b[39m)\n\u001b[0;32m      2\u001b[0m graph\u001b[38;5;241m=\u001b[39mFind_the_edges(maze3)\n\u001b[0;32m      3\u001b[0m visited, path \u001b[38;5;241m=\u001b[39m astar_path(graph, START, GOAL, Manhattan_distance, \u001b[38;5;241m5\u001b[39m)\n",
      "\u001b[1;31mNameError\u001b[0m: name 'build_maze' is not defined"
     ]
    }
   ],
   "source": [
    "maze3=build_maze(\"my_maze_25x25.txt\")\n",
    "graph=Find_the_edges(maze3)\n",
    "visited, path = astar_path(graph, START, GOAL, Manhattan_distance, 5)\n",
    "for i in visited:\n",
    "    maze3[i[0],i[1]]=-3\n",
    "for i in path:\n",
    "    maze3[i[0],i[1]]=-1"
   ]
  },
  {
   "cell_type": "code",
   "execution_count": 30,
   "id": "314c521c",
   "metadata": {},
   "outputs": [
    {
     "data": {
      "text/plain": [
       "<matplotlib.image.AxesImage at 0x206c3d0f310>"
      ]
     },
     "execution_count": 30,
     "metadata": {},
     "output_type": "execute_result"
    },
    {
     "data": {
      "image/png": "[encoded data removed]",
      "text/plain": [
       "<Figure size 432x288 with 1 Axes>"
      ]
     },
     "metadata": {
      "needs_background": "light"
     },
     "output_type": "display_data"
    }
   ],
   "source": [
    "plt.imshow(maze3, cmap='Pastel2')"
   ]
  },
  {
   "cell_type": "code",
   "execution_count": 31,
   "id": "953d0990",
   "metadata": {},
   "outputs": [
    {
     "name": "stdout",
     "output_type": "stream",
     "text": [
      "Space Nodes:  289\n",
      "Runtime:  0.0010356903076171875\n"
     ]
    }
   ],
   "source": [
    "maze3=build_maze(\"my_maze_25x25.txt\")\n",
    "graph=Find_the_edges(maze3)\n",
    "visited, path = astar_path(graph, START, GOAL, Manhattan_distance, 10)\n",
    "for i in visited:\n",
    "    maze3[i[0],i[1]]=-3\n",
    "for i in path:\n",
    "    maze3[i[0],i[1]]=-1"
   ]
  },
  {
   "cell_type": "code",
   "execution_count": 32,
   "id": "0b2f0b08",
   "metadata": {
    "scrolled": true
   },
   "outputs": [
    {
     "data": {
      "text/plain": [
       "<matplotlib.image.AxesImage at 0x206c3d6f580>"
      ]
     },
     "execution_count": 32,
     "metadata": {},
     "output_type": "execute_result"
    },
    {
     "data": {
      "image/png": "[encoded data removed]",
      "text/plain": [
       "<Figure size 432x288 with 1 Axes>"
      ]
     },
     "metadata": {
      "needs_background": "light"
     },
     "output_type": "display_data"
    }
   ],
   "source": [
    "plt.imshow(maze3, cmap='Pastel2')"
   ]
  },
  {
   "cell_type": "code",
   "execution_count": 33,
   "id": "e0a5d84b",
   "metadata": {},
   "outputs": [
    {
     "name": "stdout",
     "output_type": "stream",
     "text": [
      "Space Nodes:  306\n",
      "Runtime:  0.00099945068359375\n"
     ]
    }
   ],
   "source": [
    "maze3=build_maze(\"my_maze_25x25.txt\")\n",
    "graph=Find_the_edges(maze3)\n",
    "visited, path = astar_path(graph, START, GOAL, Manhattan_distance, 25)\n",
    "for i in visited:\n",
    "    maze3[i[0],i[1]]=-3\n",
    "for i in path:\n",
    "    maze3[i[0],i[1]]=-1"
   ]
  },
  {
   "cell_type": "code",
   "execution_count": 34,
   "id": "6ed52f89",
   "metadata": {
    "scrolled": true
   },
   "outputs": [
    {
     "data": {
      "text/plain": [
       "<matplotlib.image.AxesImage at 0x206c3dbc970>"
      ]
     },
     "execution_count": 34,
     "metadata": {},
     "output_type": "execute_result"
    },
    {
     "data": {
      "image/png": "[encoded data removed]",
      "text/plain": [
       "<Figure size 432x288 with 1 Axes>"
      ]
     },
     "metadata": {
      "needs_background": "light"
     },
     "output_type": "display_data"
    }
   ],
   "source": [
    "plt.imshow(maze3, cmap='Pastel2')"
   ]
  },
  {
   "cell_type": "code",
   "execution_count": 35,
   "id": "b39a6461",
   "metadata": {},
   "outputs": [
    {
     "name": "stdout",
     "output_type": "stream",
     "text": [
      "Space Nodes:  312\n",
      "Runtime:  0.001982450485229492\n"
     ]
    }
   ],
   "source": [
    "maze3=build_maze(\"my_maze_25x25.txt\")\n",
    "graph=Find_the_edges(maze3)\n",
    "visited, path = astar_path(graph, START, GOAL, Manhattan_distance, 60)\n",
    "for i in visited:\n",
    "    maze3[i[0],i[1]]=-3\n",
    "for i in path:\n",
    "    maze3[i[0],i[1]]=-1"
   ]
  },
  {
   "cell_type": "code",
   "execution_count": 36,
   "id": "9bcf0137",
   "metadata": {},
   "outputs": [
    {
     "data": {
      "text/plain": [
       "<matplotlib.image.AxesImage at 0x206c3e21c40>"
      ]
     },
     "execution_count": 36,
     "metadata": {},
     "output_type": "execute_result"
    },
    {
     "data": {
      "image/png": "[encoded data removed]",
      "text/plain": [
       "<Figure size 432x288 with 1 Axes>"
      ]
     },
     "metadata": {
      "needs_background": "light"
     },
     "output_type": "display_data"
    }
   ],
   "source": [
    "plt.imshow(maze3, cmap='Pastel2')"
   ]
  },
  {
   "cell_type": "markdown",
   "id": "693cb0dd",
   "metadata": {},
   "source": [
    "Explain what changes you observe for the different weights and why it occurs."
   ]
  },
  {
   "cell_type": "markdown",
   "id": "0cdfcb50",
   "metadata": {},
   "source": [
    "Comparing the visualization between heuristic functions: Euclidean Distance and Manhatten Distance. Both distance functions have similar path searches (refere to visualizations above). As I increased the weight for the astar_path(), there are less visited nodes denoted by the light brown color which means that the algorithm deams that that path is too long or obstacles longate the search space. The weight will increase the search algorithm \"F(n) = G + w*H(n)\" and determine which path is the shortest."
   ]
  },
  {
   "cell_type": "markdown",
   "id": "6e803b28",
   "metadata": {},
   "source": [
    "### Task - 4"
   ]
  },
  {
   "cell_type": "markdown",
   "id": "c2c7688c",
   "metadata": {},
   "source": [
    "\n",
    "Plot on plt.subplot(121) a) time taken VS Weights\n",
    "\n",
    "Plot on plt.subplot(122) b) search space (expanded nodes) VS Weights\n",
    "\n",
    "-- add titles, axis labels, and legends."
   ]
  },
  {
   "cell_type": "code",
   "execution_count": 37,
   "id": "ffc53e9f",
   "metadata": {},
   "outputs": [
    {
     "data": {
      "image/png": "[encoded data removed]",
      "text/plain": [
       "<Figure size 432x288 with 1 Axes>"
      ]
     },
     "metadata": {
      "needs_background": "light"
     },
     "output_type": "display_data"
    }
   ],
   "source": [
    "# Euclidean Distance Functions\n",
    "weight = [5, 10, 25, 60]\n",
    "#runtime may be subject to change per kernel restart\n",
    "time = [0.0008, 0.001045, 0.002014, 0.002457]\n",
    "plt.subplot(1,2,1)\n",
    "plt.plot(time, weight)\n",
    "plt.xlabel(\"Time\")\n",
    "plt.ylabel(\"Weight\")\n",
    "plt.title(\"Time Vs Weight\")\n",
    "plt.show()"
   ]
  },
  {
   "cell_type": "code",
   "execution_count": 38,
   "id": "873c5cd0",
   "metadata": {},
   "outputs": [
    {
     "data": {
      "image/png": "[encoded data removed]",
      "text/plain": [
       "<Figure size 432x288 with 1 Axes>"
      ]
     },
     "metadata": {
      "needs_background": "light"
     },
     "output_type": "display_data"
    }
   ],
   "source": [
    "# Euclidean Distance Functions\n",
    "weight = [5, 10, 25, 60]\n",
    "#Space may be subject to change, but should be consistent\n",
    "space = [276, 286, 306, 312]\n",
    "plt.subplot(1,2,2)\n",
    "plt.plot(space, weight)\n",
    "plt.xlabel(\"Space\")\n",
    "plt.ylabel(\"Weight\")\n",
    "plt.title(\"Space Vs Weight\")\n",
    "plt.show()"
   ]
  },
  {
   "cell_type": "markdown",
   "id": "31bde091",
   "metadata": {},
   "source": [
    "### Task - 5"
   ]
  },
  {
   "cell_type": "markdown",
   "id": "6447d4e4",
   "metadata": {},
   "source": [
    "Solve the maze with the Dijkstra algorithm, and visualize the solution in the maze. What is the length of the shortest path?"
   ]
  },
  {
   "cell_type": "code",
   "execution_count": 39,
   "id": "4b39ecea",
   "metadata": {},
   "outputs": [
    {
     "name": "stdout",
     "output_type": "stream",
     "text": [
      "Length:  75\n",
      "Space Node:  305\n"
     ]
    }
   ],
   "source": [
    "maze3=build_maze(\"my_maze_25x25.txt\")\n",
    "graph=Find_the_edges(maze3)\n",
    "visited, path = dijkstra_algorithm(graph, START, GOAL)\n",
    "for i in visited:\n",
    "    maze3[i[0],i[1]]=-3\n",
    "for i in path:\n",
    "    maze3[i[0],i[1]]=-1"
   ]
  },
  {
   "cell_type": "code",
   "execution_count": 40,
   "id": "38eceb90",
   "metadata": {},
   "outputs": [
    {
     "data": {
      "text/plain": [
       "<matplotlib.image.AxesImage at 0x206c3f53400>"
      ]
     },
     "execution_count": 40,
     "metadata": {},
     "output_type": "execute_result"
    },
    {
     "data": {
      "image/png": "[encoded data removed]",
      "text/plain": [
       "<Figure size 432x288 with 1 Axes>"
      ]
     },
     "metadata": {
      "needs_background": "light"
     },
     "output_type": "display_data"
    }
   ],
   "source": [
    "plt.imshow(maze3, cmap='Pastel2')"
   ]
  },
  {
   "cell_type": "markdown",
   "id": "029b0175",
   "metadata": {},
   "source": [
    "### Task - 6"
   ]
  },
  {
   "cell_type": "markdown",
   "id": "01e8361c",
   "metadata": {},
   "source": [
    "Solve the maze with the BFS algorithm, and visualize the solution in the maze. What is the length of the shortest path?"
   ]
  },
  {
   "cell_type": "code",
   "execution_count": 41,
   "id": "eef0a76f",
   "metadata": {
    "scrolled": true
   },
   "outputs": [],
   "source": [
    "maze3=build_maze(\"my_maze_25x25.txt\")\n",
    "graph=Find_the_edges(maze3)\n",
    "visited, path = BreadthFirst(graph, START, GOAL)\n",
    "for i in visited:\n",
    "    maze3[i[0],i[1]]=-3\n",
    "for i in path:\n",
    "    maze3[i[0],i[1]]=-1"
   ]
  },
  {
   "cell_type": "code",
   "execution_count": 42,
   "id": "c7965006",
   "metadata": {},
   "outputs": [
    {
     "data": {
      "text/plain": [
       "<matplotlib.image.AxesImage at 0x206c3facca0>"
      ]
     },
     "execution_count": 42,
     "metadata": {},
     "output_type": "execute_result"
    },
    {
     "data": {
      "image/png": "[encoded data removed]",
      "text/plain": [
       "<Figure size 432x288 with 1 Axes>"
      ]
     },
     "metadata": {
      "needs_background": "light"
     },
     "output_type": "display_data"
    }
   ],
   "source": [
    "plt.imshow(maze3, cmap='Pastel2')"
   ]
  },
  {
   "cell_type": "markdown",
   "id": "fe593589",
   "metadata": {},
   "source": [
    "### Task - 7"
   ]
  },
  {
   "cell_type": "markdown",
   "id": "1c692e9b",
   "metadata": {},
   "source": [
    "Choose 3 random START and GOAL states, and repeat the tasks 2 - 6, and visualize the solution for each. Use W=1 in this task. Explain your observations."
   ]
  },
  {
   "cell_type": "markdown",
   "id": "d00a6e73",
   "metadata": {},
   "source": [
    "Random 1: start and goal must not on an obstacle"
   ]
  },
  {
   "cell_type": "code",
   "execution_count": 43,
   "id": "7161276f",
   "metadata": {},
   "outputs": [],
   "source": [
    "START=(3, 2)\n",
    "GOAL=(23,23)"
   ]
  },
  {
   "cell_type": "code",
   "execution_count": 46,
   "id": "bd1facba",
   "metadata": {
    "scrolled": true
   },
   "outputs": [
    {
     "name": "stdout",
     "output_type": "stream",
     "text": [
      "Space Nodes:  304\n",
      "Runtime:  0.0008699893951416016\n"
     ]
    },
    {
     "data": {
      "text/plain": [
       "<matplotlib.image.AxesImage at 0x206c40cc550>"
      ]
     },
     "execution_count": 46,
     "metadata": {},
     "output_type": "execute_result"
    },
    {
     "data": {
      "image/png": "[encoded data removed]",
      "text/plain": [
       "<Figure size 432x288 with 1 Axes>"
      ]
     },
     "metadata": {
      "needs_background": "light"
     },
     "output_type": "display_data"
    }
   ],
   "source": [
    "maze3=build_maze(\"my_maze_25x25.txt\")\n",
    "graph=Find_the_edges(maze3)\n",
    "visited, path = astar_path(graph, START, GOAL, Euclidean_distance, 1)\n",
    "for i in visited:\n",
    "    maze3[i[0],i[1]]=-3\n",
    "for i in path:\n",
    "    maze3[i[0],i[1]]=-1\n",
    "    \n",
    "plt.imshow(maze3, cmap='Pastel2')"
   ]
  },
  {
   "cell_type": "code",
   "execution_count": 47,
   "id": "365468b7",
   "metadata": {},
   "outputs": [
    {
     "name": "stdout",
     "output_type": "stream",
     "text": [
      "Space Nodes:  304\n",
      "Runtime:  0.001642465591430664\n"
     ]
    },
    {
     "data": {
      "text/plain": [
       "<matplotlib.image.AxesImage at 0x206c41435e0>"
      ]
     },
     "execution_count": 47,
     "metadata": {},
     "output_type": "execute_result"
    },
    {
     "data": {
      "image/png": "[encoded data removed]",
      "text/plain": [
       "<Figure size 432x288 with 1 Axes>"
      ]
     },
     "metadata": {
      "needs_background": "light"
     },
     "output_type": "display_data"
    }
   ],
   "source": [
    "maze3=build_maze(\"my_maze_25x25.txt\")\n",
    "graph=Find_the_edges(maze3)\n",
    "visited, path = astar_path(graph, START, GOAL, Manhattan_distance, 1)\n",
    "for i in visited:\n",
    "    maze3[i[0],i[1]]=-3\n",
    "for i in path:\n",
    "    maze3[i[0],i[1]]=-1\n",
    "    \n",
    "plt.imshow(maze3, cmap='Pastel2')"
   ]
  },
  {
   "cell_type": "code",
   "execution_count": 48,
   "id": "08ebed9e",
   "metadata": {},
   "outputs": [
    {
     "name": "stdout",
     "output_type": "stream",
     "text": [
      "Length:  74\n",
      "Space Node:  305\n"
     ]
    },
    {
     "data": {
      "text/plain": [
       "<matplotlib.image.AxesImage at 0x206c419e970>"
      ]
     },
     "execution_count": 48,
     "metadata": {},
     "output_type": "execute_result"
    },
    {
     "data": {
      "image/png": "[encoded data removed]",
      "text/plain": [
       "<Figure size 432x288 with 1 Axes>"
      ]
     },
     "metadata": {
      "needs_background": "light"
     },
     "output_type": "display_data"
    }
   ],
   "source": [
    "maze3=build_maze(\"my_maze_25x25.txt\")\n",
    "graph=Find_the_edges(maze3)\n",
    "visited, path = dijkstra_algorithm(graph, START, GOAL)\n",
    "for i in visited:\n",
    "    maze3[i[0],i[1]]=-3\n",
    "for i in path:\n",
    "    maze3[i[0],i[1]]=-1\n",
    "    \n",
    "plt.imshow(maze3, cmap='Pastel2')"
   ]
  },
  {
   "cell_type": "code",
   "execution_count": 49,
   "id": "dd943113",
   "metadata": {
    "scrolled": true
   },
   "outputs": [
    {
     "data": {
      "text/plain": [
       "<matplotlib.image.AxesImage at 0x206c41ffca0>"
      ]
     },
     "execution_count": 49,
     "metadata": {},
     "output_type": "execute_result"
    },
    {
     "data": {
      "image/png": "[encoded data removed]",
      "text/plain": [
       "<Figure size 432x288 with 1 Axes>"
      ]
     },
     "metadata": {
      "needs_background": "light"
     },
     "output_type": "display_data"
    }
   ],
   "source": [
    "maze3=build_maze(\"my_maze_25x25.txt\")\n",
    "graph=Find_the_edges(maze3)\n",
    "visited, path = BreadthFirst(graph, START, GOAL)\n",
    "for i in visited:\n",
    "    maze3[i[0],i[1]]=-3\n",
    "for i in path:\n",
    "    maze3[i[0],i[1]]=-1\n",
    "    \n",
    "plt.imshow(maze3, cmap='Pastel2')"
   ]
  },
  {
   "cell_type": "markdown",
   "id": "fb001bd4",
   "metadata": {},
   "source": [
    "The different search algorithms have similar outputs. Most of the spaces search is around the same area, but dijkstra algorithm seems to have the best shortest path search. The amount of space nodes its going through and the visualization of light brown is greater compared to other algorithms and the total length is 49. "
   ]
  },
  {
   "cell_type": "markdown",
   "id": "8fe312bb",
   "metadata": {},
   "source": [
    "### --------------------------------------------------------------------------------------------------------------------------------------------"
   ]
  },
  {
   "cell_type": "markdown",
   "id": "221e3a2c",
   "metadata": {},
   "source": [
    "Random 2"
   ]
  },
  {
   "cell_type": "code",
   "execution_count": 50,
   "id": "8979e0dd",
   "metadata": {},
   "outputs": [],
   "source": [
    "START = (5,2)\n",
    "GOAL = (21,23)"
   ]
  },
  {
   "cell_type": "code",
   "execution_count": 51,
   "id": "09524f64",
   "metadata": {
    "scrolled": true
   },
   "outputs": [
    {
     "name": "stdout",
     "output_type": "stream",
     "text": [
      "Space Nodes:  280\n",
      "Runtime:  0.0016410350799560547\n"
     ]
    },
    {
     "data": {
      "text/plain": [
       "<matplotlib.image.AxesImage at 0x206c4261a00>"
      ]
     },
     "execution_count": 51,
     "metadata": {},
     "output_type": "execute_result"
    },
    {
     "data": {
      "image/png": "[encoded data removed]",
      "text/plain": [
       "<Figure size 432x288 with 1 Axes>"
      ]
     },
     "metadata": {
      "needs_background": "light"
     },
     "output_type": "display_data"
    }
   ],
   "source": [
    "maze3=build_maze(\"my_maze_25x25.txt\")\n",
    "graph=Find_the_edges(maze3)\n",
    "visited, path = astar_path(graph, START, GOAL, Euclidean_distance, 1)\n",
    "for i in visited:\n",
    "    maze3[i[0],i[1]]=-3\n",
    "for i in path:\n",
    "    maze3[i[0],i[1]]=-1\n",
    "    \n",
    "plt.imshow(maze3, cmap='Pastel2')"
   ]
  },
  {
   "cell_type": "code",
   "execution_count": 52,
   "id": "f40de609",
   "metadata": {
    "scrolled": true
   },
   "outputs": [
    {
     "name": "stdout",
     "output_type": "stream",
     "text": [
      "Space Nodes:  280\n",
      "Runtime:  0.0009119510650634766\n"
     ]
    },
    {
     "data": {
      "text/plain": [
       "<matplotlib.image.AxesImage at 0x206c42c67f0>"
      ]
     },
     "execution_count": 52,
     "metadata": {},
     "output_type": "execute_result"
    },
    {
     "data": {
      "image/png": "[encoded data removed]",
      "text/plain": [
       "<Figure size 432x288 with 1 Axes>"
      ]
     },
     "metadata": {
      "needs_background": "light"
     },
     "output_type": "display_data"
    }
   ],
   "source": [
    "maze3=build_maze(\"my_maze_25x25.txt\")\n",
    "graph=Find_the_edges(maze3)\n",
    "visited, path = astar_path(graph, START, GOAL, Manhattan_distance, 1)\n",
    "for i in visited:\n",
    "    maze3[i[0],i[1]]=-3\n",
    "for i in path:\n",
    "    maze3[i[0],i[1]]=-1\n",
    "    \n",
    "plt.imshow(maze3, cmap='Pastel2')"
   ]
  },
  {
   "cell_type": "code",
   "execution_count": 53,
   "id": "6277ea14",
   "metadata": {
    "scrolled": true
   },
   "outputs": [
    {
     "name": "stdout",
     "output_type": "stream",
     "text": [
      "Length:  68\n",
      "Space Node:  300\n"
     ]
    },
    {
     "data": {
      "text/plain": [
       "<matplotlib.image.AxesImage at 0x206c3efd130>"
      ]
     },
     "execution_count": 53,
     "metadata": {},
     "output_type": "execute_result"
    },
    {
     "data": {
      "image/png": "[encoded data removed]",
      "text/plain": [
       "<Figure size 432x288 with 1 Axes>"
      ]
     },
     "metadata": {
      "needs_background": "light"
     },
     "output_type": "display_data"
    }
   ],
   "source": [
    "maze3=build_maze(\"my_maze_25x25.txt\")\n",
    "graph=Find_the_edges(maze3)\n",
    "visited, path = dijkstra_algorithm(graph, START, GOAL)\n",
    "for i in visited:\n",
    "    maze3[i[0],i[1]]=-3\n",
    "for i in path:\n",
    "    maze3[i[0],i[1]]=-1\n",
    "    \n",
    "plt.imshow(maze3, cmap='Pastel2')"
   ]
  },
  {
   "cell_type": "code",
   "execution_count": 54,
   "id": "f1bd12b0",
   "metadata": {
    "scrolled": true
   },
   "outputs": [
    {
     "data": {
      "text/plain": [
       "<matplotlib.image.AxesImage at 0x206c42ffdf0>"
      ]
     },
     "execution_count": 54,
     "metadata": {},
     "output_type": "execute_result"
    },
    {
     "data": {
      "image/png": "[encoded data removed]",
      "text/plain": [
       "<Figure size 432x288 with 1 Axes>"
      ]
     },
     "metadata": {
      "needs_background": "light"
     },
     "output_type": "display_data"
    }
   ],
   "source": [
    "maze3=build_maze(\"my_maze_25x25.txt\")\n",
    "graph=Find_the_edges(maze3)\n",
    "visited, path = BreadthFirst(graph, START, GOAL)\n",
    "for i in visited:\n",
    "    maze3[i[0],i[1]]=-3\n",
    "for i in path:\n",
    "    maze3[i[0],i[1]]=-1\n",
    "    \n",
    "plt.imshow(maze3, cmap='Pastel2')"
   ]
  },
  {
   "cell_type": "markdown",
   "id": "f2b05aac",
   "metadata": {},
   "source": [
    "Compared to Random 1 where dijkstra was the best serach, astar_path algorithm is a better fit for searching the shortest path. The best way to denote this is by observing the visuals. Firstly, dijkstra length has increased to 68 and there are less unvisited nodes. Looking at astar_path we see a lot more light brown indicating that there were more unvisited nodes giving the better path."
   ]
  },
  {
   "cell_type": "markdown",
   "id": "de48471f",
   "metadata": {},
   "source": [
    "### --------------------------------------------------------------------------------------------------------------------------------------------"
   ]
  },
  {
   "cell_type": "markdown",
   "id": "4c6fae54",
   "metadata": {},
   "source": [
    "Random 3"
   ]
  },
  {
   "cell_type": "code",
   "execution_count": 55,
   "id": "83ff4e66",
   "metadata": {},
   "outputs": [],
   "source": [
    "START = (11,7)\n",
    "GOAL = (11,23)"
   ]
  },
  {
   "cell_type": "code",
   "execution_count": 56,
   "id": "4ed4dca0",
   "metadata": {
    "scrolled": true
   },
   "outputs": [
    {
     "name": "stdout",
     "output_type": "stream",
     "text": [
      "Space Nodes:  235\n",
      "Runtime:  0.001001119613647461\n"
     ]
    },
    {
     "data": {
      "text/plain": [
       "<matplotlib.image.AxesImage at 0x206c4318ee0>"
      ]
     },
     "execution_count": 56,
     "metadata": {},
     "output_type": "execute_result"
    },
    {
     "data": {
      "image/png": "[encoded data removed]",
      "text/plain": [
       "<Figure size 432x288 with 1 Axes>"
      ]
     },
     "metadata": {
      "needs_background": "light"
     },
     "output_type": "display_data"
    }
   ],
   "source": [
    "maze3=build_maze(\"my_maze_25x25.txt\")\n",
    "graph=Find_the_edges(maze3)\n",
    "visited, path = astar_path(graph, START, GOAL, Euclidean_distance, 1)\n",
    "for i in visited:\n",
    "    maze3[i[0],i[1]]=-3\n",
    "for i in path:\n",
    "    maze3[i[0],i[1]]=-1\n",
    "    \n",
    "plt.imshow(maze3, cmap='Pastel2')"
   ]
  },
  {
   "cell_type": "code",
   "execution_count": 57,
   "id": "cc96e495",
   "metadata": {},
   "outputs": [
    {
     "name": "stdout",
     "output_type": "stream",
     "text": [
      "Space Nodes:  235\n",
      "Runtime:  0.0009989738464355469\n"
     ]
    },
    {
     "data": {
      "text/plain": [
       "<matplotlib.image.AxesImage at 0x206c4377af0>"
      ]
     },
     "execution_count": 57,
     "metadata": {},
     "output_type": "execute_result"
    },
    {
     "data": {
      "image/png": "[encoded data removed]",
      "text/plain": [
       "<Figure size 432x288 with 1 Axes>"
      ]
     },
     "metadata": {
      "needs_background": "light"
     },
     "output_type": "display_data"
    }
   ],
   "source": [
    "maze3=build_maze(\"my_maze_25x25.txt\")\n",
    "graph=Find_the_edges(maze3)\n",
    "visited, path = astar_path(graph, START, GOAL, Manhattan_distance, 1)\n",
    "for i in visited:\n",
    "    maze3[i[0],i[1]]=-3\n",
    "for i in path:\n",
    "    maze3[i[0],i[1]]=-1\n",
    "    \n",
    "plt.imshow(maze3, cmap='Pastel2')"
   ]
  },
  {
   "cell_type": "code",
   "execution_count": 58,
   "id": "c5ddaa2c",
   "metadata": {
    "scrolled": true
   },
   "outputs": [
    {
     "name": "stdout",
     "output_type": "stream",
     "text": [
      "Length:  49\n",
      "Space Node:  245\n"
     ]
    },
    {
     "data": {
      "text/plain": [
       "<matplotlib.image.AxesImage at 0x206c43e0850>"
      ]
     },
     "execution_count": 58,
     "metadata": {},
     "output_type": "execute_result"
    },
    {
     "data": {
      "image/png": "[encoded data removed]",
      "text/plain": [
       "<Figure size 432x288 with 1 Axes>"
      ]
     },
     "metadata": {
      "needs_background": "light"
     },
     "output_type": "display_data"
    }
   ],
   "source": [
    "maze3=build_maze(\"my_maze_25x25.txt\")\n",
    "graph=Find_the_edges(maze3)\n",
    "visited, path = dijkstra_algorithm(graph, START, GOAL)\n",
    "for i in visited:\n",
    "    maze3[i[0],i[1]]=-3\n",
    "for i in path:\n",
    "    maze3[i[0],i[1]]=-1\n",
    "    \n",
    "plt.imshow(maze3, cmap='Pastel2')"
   ]
  },
  {
   "cell_type": "code",
   "execution_count": 59,
   "id": "ea50bddc",
   "metadata": {},
   "outputs": [
    {
     "data": {
      "text/plain": [
       "<matplotlib.image.AxesImage at 0x206c44463d0>"
      ]
     },
     "execution_count": 59,
     "metadata": {},
     "output_type": "execute_result"
    },
    {
     "data": {
      "image/png": "[encoded data removed]",
      "text/plain": [
       "<Figure size 432x288 with 1 Axes>"
      ]
     },
     "metadata": {
      "needs_background": "light"
     },
     "output_type": "display_data"
    }
   ],
   "source": [
    "maze3=build_maze(\"my_maze_25x25.txt\")\n",
    "graph=Find_the_edges(maze3)\n",
    "visited, path = BreadthFirst(graph, START, GOAL)\n",
    "for i in visited:\n",
    "    maze3[i[0],i[1]]=-3\n",
    "for i in path:\n",
    "    maze3[i[0],i[1]]=-1\n",
    "    \n",
    "plt.imshow(maze3, cmap='Pastel2')"
   ]
  },
  {
   "cell_type": "markdown",
   "id": "3b91ddd6",
   "metadata": {},
   "source": [
    "By looking at the visual representation and space nodes, all the algorithms are very similar in output. Space nodes are in the same range 230-245 and unvisited nodes are the same."
   ]
  },
  {
   "cell_type": "markdown",
   "id": "1c99ac77",
   "metadata": {},
   "source": [
    "### Task - 8"
   ]
  },
  {
   "cell_type": "markdown",
   "id": "cabf0458",
   "metadata": {},
   "source": [
    "The initally assumation which we made in the Find_the_edges() is the robot can only move in UP, DOWN, LEFT and RIGHT. Now it can diagonally also. So, Modifiy the function and repeat the tasks from 1-6 (and visualize the solution for each). Use W=1 in this task. Explain your observations"
   ]
  },
  {
   "cell_type": "code",
   "execution_count": 60,
   "id": "6ed4f96e",
   "metadata": {},
   "outputs": [],
   "source": [
    "START = (1,1)\n",
    "GOAL = (24, 24)"
   ]
  },
  {
   "cell_type": "code",
   "execution_count": 61,
   "id": "c16d6abd",
   "metadata": {},
   "outputs": [
    {
     "name": "stdout",
     "output_type": "stream",
     "text": [
      "Space Nodes:  304\n",
      "Runtime:  0.0008046627044677734\n"
     ]
    },
    {
     "data": {
      "text/plain": [
       "<matplotlib.image.AxesImage at 0x206c44a71f0>"
      ]
     },
     "execution_count": 61,
     "metadata": {},
     "output_type": "execute_result"
    },
    {
     "data": {
      "image/png": "[encoded data removed]",
      "text/plain": [
       "<Figure size 432x288 with 1 Axes>"
      ]
     },
     "metadata": {
      "needs_background": "light"
     },
     "output_type": "display_data"
    }
   ],
   "source": [
    "maze3=build_maze(\"my_maze_25x25.txt\")\n",
    "graph=Find_the_edges(maze3)\n",
    "visited, path = astar_path(graph, START, GOAL, Euclidean_distance, 1)\n",
    "for i in visited:\n",
    "    maze3[i[0],i[1]]=-3\n",
    "for i in path:\n",
    "    maze3[i[0],i[1]]=-1\n",
    "    \n",
    "plt.imshow(maze3, cmap='Pastel2')"
   ]
  },
  {
   "cell_type": "code",
   "execution_count": 62,
   "id": "77516ec5",
   "metadata": {},
   "outputs": [
    {
     "name": "stdout",
     "output_type": "stream",
     "text": [
      "Space Nodes:  276\n",
      "Runtime:  0.0009686946868896484\n"
     ]
    },
    {
     "data": {
      "text/plain": [
       "<matplotlib.image.AxesImage at 0x206c44feeb0>"
      ]
     },
     "execution_count": 62,
     "metadata": {},
     "output_type": "execute_result"
    },
    {
     "data": {
      "image/png": "[encoded data removed]",
      "text/plain": [
       "<Figure size 432x288 with 1 Axes>"
      ]
     },
     "metadata": {
      "needs_background": "light"
     },
     "output_type": "display_data"
    }
   ],
   "source": [
    "maze3=build_maze(\"my_maze_25x25.txt\")\n",
    "graph=Find_the_edges(maze3)\n",
    "visited, path = astar_path(graph, START, GOAL, Euclidean_distance, 5)\n",
    "for i in visited:\n",
    "    maze3[i[0],i[1]]=-3\n",
    "for i in path:\n",
    "    maze3[i[0],i[1]]=-1\n",
    "    \n",
    "plt.imshow(maze3, cmap='Pastel2')"
   ]
  },
  {
   "cell_type": "code",
   "execution_count": 63,
   "id": "308274ac",
   "metadata": {},
   "outputs": [
    {
     "name": "stdout",
     "output_type": "stream",
     "text": [
      "Space Nodes:  289\n",
      "Runtime:  0.001003265380859375\n"
     ]
    },
    {
     "data": {
      "text/plain": [
       "<matplotlib.image.AxesImage at 0x206c4563be0>"
      ]
     },
     "execution_count": 63,
     "metadata": {},
     "output_type": "execute_result"
    },
    {
     "data": {
      "image/png": "[encoded data removed]",
      "text/plain": [
       "<Figure size 432x288 with 1 Axes>"
      ]
     },
     "metadata": {
      "needs_background": "light"
     },
     "output_type": "display_data"
    }
   ],
   "source": [
    "maze3=build_maze(\"my_maze_25x25.txt\")\n",
    "graph=Find_the_edges(maze3)\n",
    "visited, path = astar_path(graph, START, GOAL, Euclidean_distance, 10)\n",
    "for i in visited:\n",
    "    maze3[i[0],i[1]]=-3\n",
    "for i in path:\n",
    "    maze3[i[0],i[1]]=-1\n",
    "    \n",
    "plt.imshow(maze3, cmap='Pastel2')"
   ]
  },
  {
   "cell_type": "code",
   "execution_count": 64,
   "id": "b2ac9291",
   "metadata": {},
   "outputs": [
    {
     "name": "stdout",
     "output_type": "stream",
     "text": [
      "Space Nodes:  306\n",
      "Runtime:  0.0011909008026123047\n"
     ]
    },
    {
     "data": {
      "text/plain": [
       "<matplotlib.image.AxesImage at 0x206c45c7970>"
      ]
     },
     "execution_count": 64,
     "metadata": {},
     "output_type": "execute_result"
    },
    {
     "data": {
      "image/png": "[encoded data removed]",
      "text/plain": [
       "<Figure size 432x288 with 1 Axes>"
      ]
     },
     "metadata": {
      "needs_background": "light"
     },
     "output_type": "display_data"
    }
   ],
   "source": [
    "maze3=build_maze(\"my_maze_25x25.txt\")\n",
    "graph=Find_the_edges(maze3)\n",
    "visited, path = astar_path(graph, START, GOAL, Euclidean_distance, 25)\n",
    "for i in visited:\n",
    "    maze3[i[0],i[1]]=-3\n",
    "for i in path:\n",
    "    maze3[i[0],i[1]]=-1\n",
    "    \n",
    "plt.imshow(maze3, cmap='Pastel2')"
   ]
  },
  {
   "cell_type": "code",
   "execution_count": 65,
   "id": "6659c625",
   "metadata": {},
   "outputs": [
    {
     "name": "stdout",
     "output_type": "stream",
     "text": [
      "Space Nodes:  312\n",
      "Runtime:  0.0009012222290039062\n"
     ]
    },
    {
     "data": {
      "text/plain": [
       "<matplotlib.image.AxesImage at 0x206c462a6a0>"
      ]
     },
     "execution_count": 65,
     "metadata": {},
     "output_type": "execute_result"
    },
    {
     "data": {
      "image/png": "[encoded data removed]",
      "text/plain": [
       "<Figure size 432x288 with 1 Axes>"
      ]
     },
     "metadata": {
      "needs_background": "light"
     },
     "output_type": "display_data"
    }
   ],
   "source": [
    "maze3=build_maze(\"my_maze_25x25.txt\")\n",
    "graph=Find_the_edges(maze3)\n",
    "visited, path = astar_path(graph, START, GOAL, Euclidean_distance, 60)\n",
    "for i in visited:\n",
    "    maze3[i[0],i[1]]=-3\n",
    "for i in path:\n",
    "    maze3[i[0],i[1]]=-1\n",
    "    \n",
    "plt.imshow(maze3, cmap='Pastel2')"
   ]
  },
  {
   "cell_type": "code",
   "execution_count": 66,
   "id": "effc4107",
   "metadata": {},
   "outputs": [
    {
     "data": {
      "image/png": "[encoded data removed]",
      "text/plain": [
       "<Figure size 432x288 with 1 Axes>"
      ]
     },
     "metadata": {
      "needs_background": "light"
     },
     "output_type": "display_data"
    }
   ],
   "source": [
    "# Euclidean Distance Functions\n",
    "weight = [5, 10, 25, 60]\n",
    "#runtime may be subject to change per kernel restart\n",
    "time = [0.0008, 0.001045, 0.002014, 0.002457]\n",
    "plt.subplot(1,2,1)\n",
    "plt.plot(time, weight)\n",
    "plt.xlabel(\"Time\")\n",
    "plt.ylabel(\"Weight\")\n",
    "plt.title(\"Time Vs Weight\")\n",
    "plt.show()"
   ]
  },
  {
   "cell_type": "code",
   "execution_count": 67,
   "id": "10048b5a",
   "metadata": {
    "scrolled": true
   },
   "outputs": [
    {
     "data": {
      "image/png": "[encoded data removed]",
      "text/plain": [
       "<Figure size 432x288 with 1 Axes>"
      ]
     },
     "metadata": {
      "needs_background": "light"
     },
     "output_type": "display_data"
    }
   ],
   "source": [
    "# Euclidean Distance Functions\n",
    "weight = [5, 10, 25, 60]\n",
    "#Space may be subject to change, but should be consistent\n",
    "space = [276, 286, 306, 312]\n",
    "plt.subplot(1,2,2)\n",
    "plt.plot(space, weight)\n",
    "plt.xlabel(\"Space\")\n",
    "plt.ylabel(\"Weight\")\n",
    "plt.title(\"Space Vs Weight\")\n",
    "plt.show()"
   ]
  },
  {
   "cell_type": "code",
   "execution_count": 68,
   "id": "bfeb5de7",
   "metadata": {
    "scrolled": true
   },
   "outputs": [
    {
     "name": "stdout",
     "output_type": "stream",
     "text": [
      "Length:  75\n",
      "Space Node:  305\n"
     ]
    },
    {
     "data": {
      "text/plain": [
       "<matplotlib.image.AxesImage at 0x206c57112b0>"
      ]
     },
     "execution_count": 68,
     "metadata": {},
     "output_type": "execute_result"
    },
    {
     "data": {
      "image/png": "[encoded data removed]",
      "text/plain": [
       "<Figure size 432x288 with 1 Axes>"
      ]
     },
     "metadata": {
      "needs_background": "light"
     },
     "output_type": "display_data"
    }
   ],
   "source": [
    "maze3=build_maze(\"my_maze_25x25.txt\")\n",
    "graph=Find_the_edges(maze3)\n",
    "visited, path = dijkstra_algorithm(graph, START, GOAL)\n",
    "for i in visited:\n",
    "    maze3[i[0],i[1]]=-3\n",
    "for i in path:\n",
    "    maze3[i[0],i[1]]=-1\n",
    "    \n",
    "plt.imshow(maze3, cmap='Pastel2')"
   ]
  },
  {
   "cell_type": "code",
   "execution_count": 69,
   "id": "30cb5140",
   "metadata": {},
   "outputs": [
    {
     "data": {
      "text/plain": [
       "<matplotlib.image.AxesImage at 0x206c56c5220>"
      ]
     },
     "execution_count": 69,
     "metadata": {},
     "output_type": "execute_result"
    },
    {
     "data": {
      "image/png": "[encoded data removed]",
      "text/plain": [
       "<Figure size 432x288 with 1 Axes>"
      ]
     },
     "metadata": {
      "needs_background": "light"
     },
     "output_type": "display_data"
    }
   ],
   "source": [
    "maze3=build_maze(\"my_maze_25x25.txt\")\n",
    "graph=Find_the_edges(maze3)\n",
    "visited, path = BreadthFirst(graph, START, GOAL)\n",
    "for i in visited:\n",
    "    maze3[i[0],i[1]]=-3\n",
    "for i in path:\n",
    "    maze3[i[0],i[1]]=-1\n",
    "    \n",
    "plt.imshow(maze3, cmap='Pastel2')"
   ]
  }
 ],
 "metadata": {
  "kernelspec": {
   "display_name": "Python 3 (ipykernel)",
   "language": "python",
   "name": "python3"
  },
  "language_info": {
   "codemirror_mode": {
    "name": "ipython",
    "version": 3
   },
   "file_extension": ".py",
   "mimetype": "text/x-python",
   "name": "python",
   "nbconvert_exporter": "python",
   "pygments_lexer": "ipython3",
   "version": "3.9.12"
  }
 },
 "nbformat": 4,
 "nbformat_minor": 5
}
